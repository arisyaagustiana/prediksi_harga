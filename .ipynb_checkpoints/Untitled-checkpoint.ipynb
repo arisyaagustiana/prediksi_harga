{
 "cells": [
  {
   "cell_type": "code",
   "execution_count": 33,
   "metadata": {},
   "outputs": [],
   "source": [
    "#inisialisasi\n",
    "import numpy as np\n",
    "import math\n",
    "from pandas import DataFrame, read_csv, read_excel\n",
    "import matplotlib.pyplot as plt\n",
    "import pandas as pd\n",
    "import xlsxwriter\n",
    "import csv"
   ]
  },
  {
   "cell_type": "code",
   "execution_count": 34,
   "metadata": {},
   "outputs": [
    {
     "name": "stdout",
     "output_type": "stream",
     "text": [
      "Masukan file traning : training_pejati.csv\n",
      "Masukan file testing : testing_pejati.csv\n"
     ]
    }
   ],
   "source": [
    "#Membaca excel\n",
    "# 'training_pejati.csv'\n",
    "training_p = input(\"Masukan file traning : \")\n",
    "df1 = pd.read_csv(training_p)\n",
    "# 'testing_pejati.csv'\n",
    "testing_p = input(\"Masukan file testing : \")\n",
    "df2 = pd.read_csv(testing_p)\n",
    "\n",
    "training_count = df1.count(axis=\"rows\")[0]\n",
    "testing_count = df2.count(axis=\"rows\")[0]\n",
    "rows_count = df1.count(axis=\"columns\")[0]\n",
    "\n",
    "train = np.array(df1)\n",
    "test = np.array(df2)"
   ]
  },
  {
   "cell_type": "code",
   "execution_count": 35,
   "metadata": {},
   "outputs": [
    {
     "name": "stdout",
     "output_type": "stream",
     "text": [
      "Masukan jumlah bobot : 6\n",
      "Bobot 1 : 0.154\n",
      "Bobot 2 : 0.221\n",
      "Bobot 3 : 0.341\n",
      "Bobot 4 : 0.108\n",
      "Bobot 5 : 0.101\n",
      "Bobot 6 : 0.076\n"
     ]
    }
   ],
   "source": [
    "#Bobot korelasi\n",
    "jml_bobot = input(\"Masukan jumlah bobot : \")\n",
    "# 0.154, 0.221, 0.341, 0.108, 0.101, 0.076\n",
    "for i in range(int(jml_bobot)):\n",
    "    bobot = input(\"Bobot {} : \".format(i+1))\n",
    "    bobot_p.append(float(bobot)) "
   ]
  },
  {
   "cell_type": "code",
   "execution_count": 36,
   "metadata": {},
   "outputs": [],
   "source": [
    "# Mencari kesamaan nilai (retrieve): weight euclidean distance\n",
    "nilai = []\n",
    "for i in range(testing_count):\n",
    "    for j in range(training_count):\n",
    "        d_total = 0\n",
    "\n",
    "        for k in range(rows_count-1):\n",
    "            kali_bobot = pow((test[i,k] - train[j,k]),2) * bobot_p[k]\n",
    "            d_total = d_total + kali_bobot\n",
    "\n",
    "        nilai.append([math.sqrt(d_total), j]);\n",
    "        \n",
    "nilai.sort(reverse=False)\n",
    "\n",
    "with open('ed.csv', 'w') as csvfile:\n",
    "    filewriter = csv.writer(csvfile, delimiter=',',quotechar='|', quoting=csv.QUOTE_MINIMAL)\n",
    "    for i in range(0, len(nilai)):\n",
    "        filewriter.writerow([nilai[i][0]])\n",
    "\n",
    "min = nilai[0][0]\n",
    "max = nilai[len(nilai)-1][0]"
   ]
  },
  {
   "cell_type": "code",
   "execution_count": 37,
   "metadata": {},
   "outputs": [],
   "source": [
    "# Mencari nilai normalisasi ed\n",
    "normal = []\n",
    "for i in range(len(nilai)):\n",
    "    normal.append((nilai[i][0] - min)/(max-min))"
   ]
  },
  {
   "cell_type": "code",
   "execution_count": 38,
   "metadata": {},
   "outputs": [],
   "source": [
    "with open('normalisasi.csv', 'w') as csvfile:\n",
    "    filewriter = csv.writer(csvfile, delimiter=',',quotechar='|', quoting=csv.QUOTE_MINIMAL)\n",
    "    for i in range(0, len(normal)):\n",
    "        filewriter.writerow([normal[i]])"
   ]
  },
  {
   "cell_type": "code",
   "execution_count": null,
   "metadata": {},
   "outputs": [],
   "source": []
  }
 ],
 "metadata": {
  "kernelspec": {
   "display_name": "Python 3",
   "language": "python",
   "name": "python3"
  },
  "language_info": {
   "codemirror_mode": {
    "name": "ipython",
    "version": 3
   },
   "file_extension": ".py",
   "mimetype": "text/x-python",
   "name": "python",
   "nbconvert_exporter": "python",
   "pygments_lexer": "ipython3",
   "version": "3.7.0"
  }
 },
 "nbformat": 4,
 "nbformat_minor": 2
}
